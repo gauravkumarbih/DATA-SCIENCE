{
 "cells": [
  {
   "cell_type": "code",
   "execution_count": 3,
   "id": "4549d798",
   "metadata": {},
   "outputs": [
    {
     "name": "stdout",
     "output_type": "stream",
     "text": [
      "30.63\n"
     ]
    }
   ],
   "source": [
    "# From the dataset, find the mean age of the people who did not survive.\n",
    "# In the dataset,\n",
    "# For Survived = 0 means the passenger has not survived.\n",
    "\n",
    "# For Survived = 1 means the passenger has survived.\n",
    "import pandas as pd\n",
    "import numpy as np\n",
    "import math \n",
    "df = pd.read_csv(\"C:/Users/gaurav123/Downloads/coading ninja/project 1/titanic project.csv\")\n",
    "a=df[df[\"Survived\"]==0][\"Age\"]\n",
    "print(round(a.mean(),2))"
   ]
  },
  {
   "cell_type": "code",
   "execution_count": 4,
   "id": "a136dad6",
   "metadata": {},
   "outputs": [
    {
     "name": "stdout",
     "output_type": "stream",
     "text": [
      "38.38\n",
      "31.87\n",
      "68.13\n"
     ]
    }
   ],
   "source": [
    "# Print the percentages rounded off to two decimal places in separate lines.\n",
    "import pandas as pd\n",
    "import statistics as st\n",
    "\n",
    "df = pd.read_csv('titanic project.csv')\n",
    "\n",
    "total_pas = df['Survived'].count()\n",
    "pas_sur = df['Survived'].sum()\n",
    "per = (pas_sur/total_pas)*100\n",
    "print('%.2f'%per)\n",
    "\n",
    "\n",
    "\n",
    "filt = df['Survived'] == 1\n",
    "\n",
    "data_sex = df.loc[filt, 'Sex'].dropna().value_counts()\n",
    "\n",
    "per_m = ((data_sex[1]/pas_sur)*100)\n",
    "per_f = ((data_sex[0]/pas_sur)*100)\n",
    "print('%.2f'%per_m)\n",
    "print('%.2f'%per_f)\n"
   ]
  },
  {
   "cell_type": "code",
   "execution_count": 7,
   "id": "89848351",
   "metadata": {},
   "outputs": [
    {
     "name": "stdout",
     "output_type": "stream",
     "text": [
      "Sex\n",
      "0.54\n"
     ]
    }
   ],
   "source": [
    "# Print the column name having the highest correlation with the Survived column.\n",
    "# Print the absolute value of the correlation of this column rounded off to two decimal places.\n",
    "import pandas as pd\n",
    "import numpy as np\n",
    "import math \n",
    "import matplotlib.pyplot as plt\n",
    "df = pd.read_csv(\"titanic project.csv\")\n",
    "corr_matrix = df.corr()\n",
    "max_corr = corr_matrix['Survived'].abs().sort_values(ascending=False).index[1]\n",
    "print(max_corr)\n",
    "print('{:.2f}'.format(abs(corr_matrix.loc[max_corr, 'Survived'])))"
   ]
  },
  {
   "cell_type": "code",
   "execution_count": 8,
   "id": "da80be35",
   "metadata": {},
   "outputs": [
    {
     "name": "stdout",
     "output_type": "stream",
     "text": [
      "17.75\n"
     ]
    }
   ],
   "source": [
    "# Print the IQR of Age, rounded off to two decimal places.\n",
    "import pandas as pd\n",
    "import numpy as np\n",
    "df = pd.read_csv('titanic project.csv')\n",
    "\n",
    "\n",
    "Q1=np.percentile(df[\"Age\"]._get_numeric_data().dropna(),25, interpolation = 'midpoint')\n",
    "Q3=np.percentile(df[\"Age\"]._get_numeric_data().dropna(),75, interpolation = 'midpoint')\n",
    "\n",
    "\n",
    "IQR = Q3-Q1\n",
    "\n",
    "\n",
    "print(IQR) "
   ]
  },
  {
   "cell_type": "code",
   "execution_count": 9,
   "id": "97a9584f",
   "metadata": {},
   "outputs": [
    {
     "name": "stdout",
     "output_type": "stream",
     "text": [
      "No\n"
     ]
    }
   ],
   "source": [
    "# Print \"Yes\" if there is a significant difference otherwise print \"No\".\n",
    "import pandas as pd\n",
    "import numpy as np \n",
    "data = pd.read_csv('titanic project.csv')\n",
    "ns = data.loc[data['Survived'] == 0,['Sex']]\n",
    "ns_mean = ns.mean().values\n",
    "s = data.loc[data['Survived'] == 1,['Sex']]\n",
    "s_mean = s.mean().values\n",
    "diff = ns_mean[0]-s_mean[0]\n",
    "if diff>2:\n",
    "    print(\"Yes\")\n",
    "else:\n",
    "    print('No')"
   ]
  },
  {
   "cell_type": "code",
   "execution_count": null,
   "id": "dbffc2f9",
   "metadata": {},
   "outputs": [],
   "source": []
  }
 ],
 "metadata": {
  "kernelspec": {
   "display_name": "Python 3 (ipykernel)",
   "language": "python",
   "name": "python3"
  },
  "language_info": {
   "codemirror_mode": {
    "name": "ipython",
    "version": 3
   },
   "file_extension": ".py",
   "mimetype": "text/x-python",
   "name": "python",
   "nbconvert_exporter": "python",
   "pygments_lexer": "ipython3",
   "version": "3.9.13"
  }
 },
 "nbformat": 4,
 "nbformat_minor": 5
}
