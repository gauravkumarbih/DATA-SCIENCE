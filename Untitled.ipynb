{
 "cells": [
  {
   "cell_type": "code",
   "execution_count": 6,
   "id": "2fcaf19c",
   "metadata": {},
   "outputs": [],
   "source": [
    "import sklearn\n",
    "from sklearn.linear_model import LinearRegression\n",
    "import pandas as pd\n",
    "import numpy as np\n",
    "train_data = np.loadtxt('training_train.csv', delimiter = ',')\n",
    "test_data = np.loadtxt('test.csv', delimiter = ',')\n",
    "x_train = train_data[:, :10]\n",
    "y_train = train_data[:, 10:]\n",
    "reg = LinearRegression()\n",
    "reg.fit(x_train,y_train)\n",
    "ans = reg.predict(test_data)\n",
    "c = np.savetxt('predictionDiabetesDataset.csv',ans, fmt=\"%0.5f\", delimiter =',')\n"
   ]
  },
  {
   "cell_type": "code",
   "execution_count": null,
   "id": "9453813d",
   "metadata": {},
   "outputs": [],
   "source": []
  },
  {
   "cell_type": "code",
   "execution_count": null,
   "id": "50c47bac",
   "metadata": {},
   "outputs": [],
   "source": []
  },
  {
   "cell_type": "code",
   "execution_count": null,
   "id": "693bc8c3",
   "metadata": {},
   "outputs": [],
   "source": []
  }
 ],
 "metadata": {
  "kernelspec": {
   "display_name": "Python 3 (ipykernel)",
   "language": "python",
   "name": "python3"
  },
  "language_info": {
   "codemirror_mode": {
    "name": "ipython",
    "version": 3
   },
   "file_extension": ".py",
   "mimetype": "text/x-python",
   "name": "python",
   "nbconvert_exporter": "python",
   "pygments_lexer": "ipython3",
   "version": "3.9.13"
  }
 },
 "nbformat": 4,
 "nbformat_minor": 5
}
